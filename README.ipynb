{
 "cells": [
  {
   "cell_type": "markdown",
   "metadata": {},
   "source": [
    "# Como instalar o `pdftotext` no `Linux Ubuntu`"
   ]
  },
  {
   "cell_type": "markdown",
   "metadata": {},
   "source": [
    "## Resumo\n",
    "\n",
    "Este documento apresenta os passos necessários para instalar o utilitário `pdftotext` no `Linux Ubuntu`."
   ]
  },
  {
   "cell_type": "markdown",
   "metadata": {},
   "source": [
    "## _Abstract_\n",
    "\n",
    "_This document shows the steps required to install the `pdftotext` utility on `Linux Ubuntu`._"
   ]
  },
  {
   "cell_type": "markdown",
   "metadata": {
    "vscode": {
     "languageId": "plaintext"
    }
   },
   "source": [
    "## Descrição [2]\n",
    "\n",
    "### `pdftotext`\n",
    "\n",
    "O `pdftotext` é uma ferramenta de linha de comando, geralmente parte do pacote `Poppler` ou `Xpdf`, que converte o conteúdo de arquivos PDF em texto simples. Ele extrai o texto mantendo a ordem de leitura e pode preservar ou não a formatação de colunas e quebras de linha, conforme opções configuráveis. É muito útil para automatizar a extração de texto de documentos PDF em _scripts_ e fluxos de trabalho de análise de dados ou indexação.\n",
    "\n",
    "### `translate-shell`\n",
    "\n",
    "O `translate-shell` é uma ferramenta de linha de comando de código aberto que oferece a capacidade de traduzir texto e palavras entre vários idiomas diretamente do `Terminal Emulator`. Ele utiliza serviços de tradução _online_, como o `Google Translate`, para fornecer traduções rápidas e precisas. O `translate-shell` suporta uma ampla variedade de idiomas e pode ser usado tanto para traduções simples de palavras e frases quanto para traduções mais complexas de texto completo. Além disso, ele oferece opções avançadas, como tradução de áudio, detecção automática de idioma e pronúncia de palavras, tornando-se uma ferramenta útil para estudantes, viajantes e qualquer pessoa que precise de traduções instantâneas e convenientes diretamente do `Terminal Emulator`.\n",
    "\n",
    "### `pdfimages`\n",
    "\n",
    "O `pdfimages` é uma ferramenta para extrair imagens de arquivos PDF. Caso seu PDF contenha imagens e você queira extraí-las, pode ser útil antes de uma conversão com OCR, como no caso de um PDF digitalizado.\n",
    "\n",
    "### `qpdf`\n",
    "\n",
    "O `qpdf` é uma ferramenta para manipular arquivos PDF de maneira avançada. Você pode usá-lo para fazer operações como quebra de PDFs, mesclagem, e até mesmo para manipular metadados.\n",
    "\n",
    "### `pdfunite`\n",
    "\n",
    "O `pdfunite` é uma ferramenta de linha de comando, integrante do pacote Poppler, que permite mesclar vários arquivos PDF em um único documento. Basta informar na chamada os arquivos de entrada e o nome do PDF de saída. É ideal para scripts e fluxos de trabalho automatizados de organização e consolidação de documentos.\n",
    "\n",
    "### `tesseract`\n",
    "\n",
    "O `Tesseract` é um mecanismo de OCR (Reconhecimento Óptico de Caracteres) de código aberto, originalmente desenvolvido pela HP e atualmente mantido pelo Google. Ele converte imagens de texto em texto editável, suportando múltiplos idiomas e formatos de imagem, além de oferecer opções de treinamento para reconhecer fontes e caracteres personalizados. Muito utilizado em projetos de digitalização e extração automatizada de dados, o `Tesseract` é integrado a diversas aplicações e bibliotecas em linguagens como `Python`, `Java` e `C++`.\n",
    "\n",
    "### `gImageReader`\n",
    "\n",
    "O `gImageReader` é uma aplicação de código aberto que oferece uma interface amigável para a extração de texto de imagens ou arquivos `.pdf`. Ele utiliza tecnologias de reconhecimento óptico de caracteres (OCR) para digitalizar documentos e converter o texto contido neles em formato editável. Com recursos como suporte a vários idiomas e opções de formatação, o gImageReader é uma ferramenta útil para transformar documentos digitalizados em texto pesquisável e editável.\n",
    "\n",
    "**ATENÇÃO**: Você pode utilizar o `pdftotext` e/ou o `tesseract` em arquivos `.pdf` para converter em `.txt` e depois traduzir para o português brasileiro com os comandos do `translate-shell` que serão apresentados depois do passo a passo de como instalar o `translate-shell`."
   ]
  },
  {
   "cell_type": "markdown",
   "metadata": {},
   "source": [
    "## 1. Instalar o `pdftotext` no `Linux Ubuntu`\n",
    "\n",
    "Para instalar o `pdftotext`, siga os passos abaixo:\n",
    "\n",
    "1. Abra o `Terminal Emulator`. Você pode fazer isso pressionando: `Ctrl + Alt + T`\n",
    "\n",
    "2. Certifique-se de que seu sistema esteja limpo e atualizado.\n",
    "\n",
    "    2.1 Limpar o `cache` do gerenciador de pacotes `apt`. Especificamente, ele remove todos os arquivos de pacotes (`.deb`) baixados pelo `apt` e armazenados em `/var/cache/apt/archives/`. Digite o seguinte comando:\n",
    "    ```bash\n",
    "    sudo apt clean\n",
    "    ```\n",
    "\n",
    "    2.2 Remover pacotes `.deb` antigos ou duplicados do `cache` local. É útil para liberar espaço, pois remove apenas os pacotes que não podem mais ser baixados (ou seja, versões antigas de pacotes que foram atualizados). Digite o seguinte comando:\n",
    "    ```bash\n",
    "    sudo apt autoclean\n",
    "    ```\n",
    "\n",
    "    2.3 Remover pacotes que foram automaticamente instalados para satisfazer as dependências de outros pacotes e que não são mais necessários. Digite o seguinte comando:\n",
    "    ```bash\n",
    "    sudo apt autoremove -y\n",
    "    ```\n",
    "\n",
    "    2.4 Buscar as atualizações disponíveis para os pacotes que estão instalados em seu sistema. Digite o seguinte comando e pressione `Enter`:\n",
    "    ```bash\n",
    "    sudo apt update\n",
    "    ```\n",
    "\n",
    "    2.5 **Corrigir pacotes quebrados**: Isso atualizará a lista de pacotes disponíveis e tentará corrigir pacotes quebrados ou com dependências ausentes:\n",
    "    ```bash\n",
    "    sudo apt --fix-broken install\n",
    "    ```\n",
    "\n",
    "    2.6 Limpar o `cache` do gerenciador de pacotes `apt` novamente:\n",
    "    ```bash\n",
    "    sudo apt clean\n",
    "    ```\n",
    "\n",
    "    2.7 Para ver a lista de pacotes a serem atualizados, digite o seguinte comando e pressione `Enter`:\n",
    "    ```bash\n",
    "    sudo apt list --upgradable\n",
    "    ```\n",
    "\n",
    "    2.8 Realmente atualizar os pacotes instalados para as suas versões mais recentes, com base na última vez que você executou `sudo apt update`. Digite o seguinte comando e pressione `Enter`:\n",
    "    ```bash\n",
    "    sudo apt full-upgrade -y\n",
    "    ```\n",
    "\n",
    "3. Instale o `pdftotext` (pacote `poppler-utils`) e verifique a instalação:\n",
    "    ```bash\n",
    "    sudo apt update\n",
    "    sudo apt install poppler-utils\n",
    "    pdftotext -v\n",
    "    ```\n"
   ]
  },
  {
   "cell_type": "markdown",
   "metadata": {},
   "source": [
    "## 2. Converter um arquivo .pdf em .txt\n",
    "\n",
    "Você pode usar o comando `pdftotext` para converter um arquivo PDF em um arquivo de texto. O comando básico é:\n",
    "```bash\n",
    "pdftotext input.pdf output.txt\n",
    "```\n",
    "Isso vai converter o arquivo `input.pdf` para o arquivo de texto `output.txt`."
   ]
  },
  {
   "cell_type": "markdown",
   "metadata": {},
   "source": [
    "## 3. Converter um arquivo .pdf em .txt a partir de uma variável de terminal e mantê-lo com o mesmo nome\n",
    "\n",
    "Você pode usar variáveis no terminal para manipular os nomes dos arquivos. Aqui está um exemplo onde o nome do arquivo PDF é armazenado em uma variável e a conversão é feita mantendo o mesmo nome para o arquivo de saída, apenas com a extensão `.txt`.\n",
    "```bash\n",
    "pdf_file=\"documento.pdf\"\n",
    "txt_file=\"${pdf_file%.pdf}.txt\"\n",
    "pdftotext \"$pdf_file\" \"$txt_file\"\n",
    "```\n",
    "A instrução `txt_file=\"${pdf_file%.pdf}.txt\"` cria a variável `txt_file` substituindo a extensão `.pdf` por `.txt`. O comando `pdftotext \"$pdf_file\" \"$txt_file\"` executa a conversão usando os valores das variáveis."
   ]
  },
  {
   "cell_type": "markdown",
   "metadata": {},
   "source": [
    "## Referências\n",
    "\n",
    "[1] OPENAI. ***Instalar pdftotext no Linux Ubuntu***. Disponível em: <https://chatgpt.com/c/6862cf14-11c8-8002-8a1d-96488e72f5cf>. ChatGPT. Acessado em: 11/03/2025 14:23."
   ]
  }
 ],
 "metadata": {
  "kernelspec": {
   "display_name": "Python 3",
   "language": "python",
   "name": "python3"
  },
  "language_info": {
   "codemirror_mode": {
    "name": "ipython",
    "version": 3
   },
   "file_extension": ".py",
   "mimetype": "text/x-python",
   "name": "python",
   "nbconvert_exporter": "python",
   "pygments_lexer": "ipython3",
   "version": "3.8.10"
  },
  "orig_nbformat": 4
 },
 "nbformat": 4,
 "nbformat_minor": 2
}
